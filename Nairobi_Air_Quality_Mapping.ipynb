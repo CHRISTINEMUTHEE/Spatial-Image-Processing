{
  "nbformat": 4,
  "nbformat_minor": 0,
  "metadata": {
    "colab": {
      "name": "Nairobi Air Quality Mapping.ipynb",
      "provenance": [],
      "authorship_tag": "ABX9TyNUnSaaI82yq82umIcD+m4k",
      "include_colab_link": true
    },
    "kernelspec": {
      "name": "python3",
      "display_name": "Python 3"
    },
    "language_info": {
      "name": "python"
    }
  },
  "cells": [
    {
      "cell_type": "markdown",
      "metadata": {
        "id": "view-in-github",
        "colab_type": "text"
      },
      "source": [
        "<a href=\"https://colab.research.google.com/github/CHRISTINEMUTHEE/Spatial-Image-Processing/blob/main/Nairobi_Air_Quality_Mapping.ipynb\" target=\"_parent\"><img src=\"https://colab.research.google.com/assets/colab-badge.svg\" alt=\"Open In Colab\"/></a>"
      ]
    },
    {
      "cell_type": "markdown",
      "source": [
        "#### Using the Python API to load satelite data for pollutant concentration in Nairobi County to export it as a raster file."
      ],
      "metadata": {
        "id": "qJ7ZI4e8XR9j"
      }
    },
    {
      "cell_type": "markdown",
      "source": [
        "## Import API and get credentials\n",
        "\n",
        "The Earth Engine API is installed by default in Google Colaboratory so requires only importing and authenticating. These steps must be completed for each new Colab session, if you restart your Colab kernel, or if your Colab virtual machine is recycled due to inactivity."
      ],
      "metadata": {
        "id": "7966eWZYXvDQ"
      }
    },
    {
      "cell_type": "code",
      "source": [
        "#Importing the Earth Engine \n",
        "import ee"
      ],
      "metadata": {
        "id": "tGaLoZ47Xkbo"
      },
      "execution_count": 1,
      "outputs": []
    },
    {
      "cell_type": "markdown",
      "source": [
        "## Authenticate and Initialize Earth Engine.\n",
        "This is to allow access to your google earth engine account"
      ],
      "metadata": {
        "id": "NZLfc9OxX8-p"
      }
    },
    {
      "cell_type": "code",
      "source": [
        "# Trigger the authentication flow.\n",
        "ee.Authenticate()\n",
        "\n",
        "# Initialize the library.\n",
        "ee.Initialize()"
      ],
      "metadata": {
        "colab": {
          "base_uri": "https://localhost:8080/"
        },
        "id": "lv25ivYaYJXX",
        "outputId": "b2d9c24b-7c91-4329-a499-07984a222792"
      },
      "execution_count": 2,
      "outputs": [
        {
          "output_type": "stream",
          "name": "stdout",
          "text": [
            "To authorize access needed by Earth Engine, open the following URL in a web browser and follow the instructions. If the web browser does not start automatically, please manually browse the URL below.\n",
            "\n",
            "    https://code.earthengine.google.com/client-auth?scopes=https%3A//www.googleapis.com/auth/earthengine%20https%3A//www.googleapis.com/auth/devstorage.full_control&request_id=V54ra8-S6lww3L4ng-4ppRr1w6_afggNU9jSk1es9Ro&tc=p3xfqrXBUY70lJIoOADEh_1rrfv6nX22mtpeWDsMksc&cc=oSRCpn21DhGlT1mGRx9TAztyFAbUsFvhMX3NdShVYV4\n",
            "\n",
            "The authorization workflow will generate a code, which you should paste in the box below. \n",
            "Enter verification code: 4/1AX4XfWjIJlUGN_9NiEv2fh_ndPWOD-Hp6XG7Za5YnpjufhEtQJWS5JNERx4\n",
            "\n",
            "Successfully saved authorization token.\n"
          ]
        }
      ]
    },
    {
      "cell_type": "markdown",
      "source": [
        "### Loading the Satelite Imagery"
      ],
      "metadata": {
        "id": "bilCaG_KxpaJ"
      }
    },
    {
      "cell_type": "code",
      "source": [
        "# Loading Sentinel five satelite imagery\n",
        "Nitrogen_conc=ee.ImageCollection('COPERNICUS/S5P/OFFL/L3_NO2')\n",
        "# Selecting the dates of interest\n",
        "# Initial date of interest (inclusive).\n",
        "i_date = '2022-06-01'\n",
        "# Final date of interest (exclusive).\n",
        "f_date = '2022-06-08'\n",
        "# Bands to include\n",
        "Nitrogen_conc_bands=Nitrogen_conc.select('tropospheric_NO2_column_number_density').filterDate(i_date, f_date)                             \n"
      ],
      "metadata": {
        "colab": {
          "base_uri": "https://localhost:8080/"
        },
        "id": "vE8Fn12iYwa8",
        "outputId": "5f1603b9-0da7-409c-ef2f-3d79e4bb6ce4"
      },
      "execution_count": 76,
      "outputs": [
        {
          "output_type": "execute_result",
          "data": {
            "text/plain": [
              "<ee.imagecollection.ImageCollection at 0x7f66dc5bf410>"
            ]
          },
          "metadata": {},
          "execution_count": 76
        }
      ]
    },
    {
      "cell_type": "code",
      "source": [
        "# Loading feature set\n",
        "World_Map = ee.FeatureCollection(\"USDOS/LSIB_SIMPLE/2017\")\n",
        "# Selecting Kenyan Map\n",
        "Kenya= World_Map.filter(ee.Filter.eq('country_co','KE'))\n",
        "#\n"
      ],
      "metadata": {
        "id": "dgVQHpO7_ePh"
      },
      "execution_count": 75,
      "outputs": []
    },
    {
      "cell_type": "code",
      "source": [
        ""
      ],
      "metadata": {
        "id": "W_fEKbzUDGLm"
      },
      "execution_count": 51,
      "outputs": []
    },
    {
      "cell_type": "code",
      "source": [
        ""
      ],
      "metadata": {
        "id": "fruklH58DbNq"
      },
      "execution_count": null,
      "outputs": []
    }
  ]
}